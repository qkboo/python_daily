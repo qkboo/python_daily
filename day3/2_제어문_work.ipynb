{
 "cells": [
  {
   "cell_type": "markdown",
   "metadata": {},
   "source": [
    "```python\n",
    "for <> in []:\n",
    "    # to do\n",
    "\n",
    "```"
   ]
  },
  {
   "cell_type": "code",
   "execution_count": null,
   "metadata": {},
   "outputs": [],
   "source": [
    "range(5)    #내장함수. 시작~종료 범위 숫자를 발생!"
   ]
  },
  {
   "cell_type": "code",
   "execution_count": null,
   "metadata": {},
   "outputs": [],
   "source": [
    "r = range(5)\n",
    "r"
   ]
  },
  {
   "cell_type": "code",
   "execution_count": null,
   "metadata": {},
   "outputs": [],
   "source": [
    "print(r)"
   ]
  },
  {
   "cell_type": "code",
   "execution_count": null,
   "metadata": {},
   "outputs": [],
   "source": [
    "type(r)"
   ]
  },
  {
   "cell_type": "code",
   "execution_count": null,
   "metadata": {},
   "outputs": [],
   "source": [
    "len(r)"
   ]
  },
  {
   "cell_type": "code",
   "execution_count": null,
   "metadata": {},
   "outputs": [],
   "source": [
    "len(\"안녕하세요\")"
   ]
  },
  {
   "cell_type": "code",
   "execution_count": null,
   "metadata": {},
   "outputs": [],
   "source": [
    "for x in range(5):\n",
    "    print(x)"
   ]
  },
  {
   "cell_type": "code",
   "execution_count": null,
   "metadata": {},
   "outputs": [],
   "source": [
    "for x in r:\n",
    "    print(x)"
   ]
  },
  {
   "cell_type": "code",
   "execution_count": null,
   "metadata": {},
   "outputs": [],
   "source": [
    "'*' * 5"
   ]
  },
  {
   "cell_type": "code",
   "execution_count": null,
   "metadata": {},
   "outputs": [],
   "source": [
    "# 반복!!!\n",
    "for x in range(5):\n",
    "    print(x * '*')"
   ]
  },
  {
   "cell_type": "code",
   "execution_count": null,
   "metadata": {},
   "outputs": [],
   "source": [
    "# 반복!!!\n",
    "for x in range(10, 100, 4):\n",
    "    print(x * '*')"
   ]
  },
  {
   "cell_type": "code",
   "execution_count": null,
   "metadata": {},
   "outputs": [],
   "source": [
    "# 반복!!!\n",
    "for x in range(1, 20):\n",
    "    if x % 2 == 0: #짝수\n",
    "        print(x * '*')\n",
    "    else:\n",
    "        print(x * '+')"
   ]
  },
  {
   "cell_type": "code",
   "execution_count": null,
   "metadata": {},
   "outputs": [],
   "source": [
    "if 1 < 10:\n",
    "    pass\n",
    "elif 2 > 10:\n",
    "    pass\n",
    "\n"
   ]
  },
  {
   "cell_type": "code",
   "execution_count": null,
   "metadata": {},
   "outputs": [],
   "source": [
    "if 1 < 10:\n",
    "    pass\n",
    "\n",
    "if 2 > 10:\n",
    "    pass\n",
    "\n"
   ]
  },
  {
   "cell_type": "code",
   "execution_count": null,
   "metadata": {},
   "outputs": [],
   "source": []
  },
  {
   "cell_type": "code",
   "execution_count": null,
   "metadata": {},
   "outputs": [],
   "source": [
    "x = 0\n",
    "while x < 5:\n",
    "    print('A')\n",
    "    x += 1"
   ]
  },
  {
   "cell_type": "code",
   "execution_count": null,
   "metadata": {},
   "outputs": [],
   "source": []
  },
  {
   "cell_type": "code",
   "execution_count": null,
   "metadata": {},
   "outputs": [],
   "source": [
    "x = 0\n",
    "while True:\n",
    "    print('A')\n",
    "    x += 1"
   ]
  },
  {
   "cell_type": "code",
   "execution_count": null,
   "metadata": {
    "scrolled": true
   },
   "outputs": [],
   "source": [
    "x = 0\n",
    "while True:\n",
    "    print('A')\n",
    "    x += 1\n",
    "    # 종료조건....\n",
    "    if x == 10:\n",
    "        break"
   ]
  },
  {
   "cell_type": "markdown",
   "metadata": {},
   "source": [
    "등급 판정"
   ]
  },
  {
   "cell_type": "code",
   "execution_count": null,
   "metadata": {},
   "outputs": [],
   "source": [
    "score = int(input(\"점수를 입력해 주세요 : \"))\n",
    "\n",
    "if score >= 90 :\n",
    "    grade = \"A\"\n",
    "elif score >= 80 :\n",
    "    grade = \"B\"\n",
    "elif score >= 70 :\n",
    "    grade = \"C\"\n",
    "elif score >= 60 :\n",
    "    grade = \"D\"\n",
    "else :\n",
    "    grade = \"F\"\n",
    "\n",
    "print(\"성적 : %d\" % score)\n",
    "print(\"등급 : %s\" % grade)"
   ]
  },
  {
   "cell_type": "code",
   "execution_count": null,
   "metadata": {},
   "outputs": [],
   "source": [
    "while True:\n",
    "    score = int(input(\"점수를 입력해 주세요 : \"))\n",
    "\n",
    "    if score >= 90 :\n",
    "        grade = \"A\"\n",
    "    elif score >= 80 :\n",
    "        grade = \"B\"\n",
    "    elif score >= 70 :\n",
    "        grade = \"C\"\n",
    "    elif score >= 60 :\n",
    "        grade = \"D\"\n",
    "    elif score == -1:\n",
    "        break;\n",
    "    else :\n",
    "        grade = \"F\"\n",
    "\n",
    "    print(\"성적 : %d\" % score)\n",
    "    print(\"등급 : %s\" % grade)"
   ]
  },
  {
   "cell_type": "markdown",
   "metadata": {},
   "source": [
    "for 와 break"
   ]
  },
  {
   "cell_type": "code",
   "execution_count": null,
   "metadata": {},
   "outputs": [],
   "source": [
    "# 반복!!!\n",
    "for x in range(1, 20):\n",
    "    if x % 2 == 0: #짝수\n",
    "        print(x * '*')\n",
    "    elif x % 5 == 0:\n",
    "        break"
   ]
  },
  {
   "cell_type": "markdown",
   "metadata": {},
   "source": [
    "3의 배수"
   ]
  },
  {
   "cell_type": "code",
   "execution_count": null,
   "metadata": {},
   "outputs": [],
   "source": [
    "sum = 0\n",
    "for i in range(1, 101) :\n",
    "    if i%3 == 0 :\n",
    "        print('%d' % i, end = ' ')\n",
    "        sum += i\n",
    "    \n",
    "print('\\n', '-' * 50)\n",
    "print('1~100에서3의배수의합계: %d' % sum)"
   ]
  },
  {
   "cell_type": "markdown",
   "metadata": {},
   "source": [
    "input 으로 범위를 입력 받아, -1 을 입력받을 동안 처리."
   ]
  },
  {
   "cell_type": "code",
   "execution_count": null,
   "metadata": {},
   "outputs": [],
   "source": [
    "stop = int(input('끝 숫자를 입력:'))\n",
    "\n",
    "sum = 0\n",
    "for i in range(1, stop) :\n",
    "    if i%3 == 0 :\n",
    "        print('%d' % i, end = ' ')\n",
    "        sum += i\n",
    "    \n",
    "print('\\n', '-' * 50)\n",
    "print('1~100에서3의배수의합계: %d' % sum)"
   ]
  },
  {
   "cell_type": "code",
   "execution_count": null,
   "metadata": {},
   "outputs": [],
   "source": [
    "while True:\n",
    "    stop = int(input('끝 숫자를 입력:'))\n",
    "    if stop == -1:\n",
    "        print('Quit....'); break\n",
    "        \n",
    "    sum = 0\n",
    "    for i in range(1, stop) :\n",
    "        if i%3 == 0 :\n",
    "            print('%d' % i, end = ' ')\n",
    "            sum += i\n",
    "\n",
    "    print('\\n', '-' * 50)\n",
    "    print(f'1~{stop} 에서 3의배수 합계: {sum}')"
   ]
  },
  {
   "cell_type": "code",
   "execution_count": null,
   "metadata": {},
   "outputs": [],
   "source": []
  },
  {
   "cell_type": "code",
   "execution_count": null,
   "metadata": {},
   "outputs": [],
   "source": []
  },
  {
   "cell_type": "code",
   "execution_count": null,
   "metadata": {},
   "outputs": [],
   "source": []
  },
  {
   "cell_type": "code",
   "execution_count": null,
   "metadata": {},
   "outputs": [],
   "source": []
  },
  {
   "cell_type": "code",
   "execution_count": null,
   "metadata": {},
   "outputs": [],
   "source": []
  },
  {
   "cell_type": "code",
   "execution_count": null,
   "metadata": {},
   "outputs": [],
   "source": []
  },
  {
   "cell_type": "code",
   "execution_count": null,
   "metadata": {},
   "outputs": [],
   "source": []
  },
  {
   "cell_type": "code",
   "execution_count": null,
   "metadata": {},
   "outputs": [],
   "source": []
  },
  {
   "cell_type": "code",
   "execution_count": null,
   "metadata": {},
   "outputs": [],
   "source": []
  },
  {
   "cell_type": "code",
   "execution_count": null,
   "metadata": {},
   "outputs": [],
   "source": []
  },
  {
   "cell_type": "code",
   "execution_count": null,
   "metadata": {},
   "outputs": [],
   "source": []
  },
  {
   "cell_type": "code",
   "execution_count": null,
   "metadata": {},
   "outputs": [],
   "source": []
  },
  {
   "cell_type": "code",
   "execution_count": null,
   "metadata": {},
   "outputs": [],
   "source": []
  },
  {
   "cell_type": "code",
   "execution_count": null,
   "metadata": {},
   "outputs": [],
   "source": []
  },
  {
   "cell_type": "code",
   "execution_count": null,
   "metadata": {},
   "outputs": [],
   "source": []
  },
  {
   "cell_type": "code",
   "execution_count": null,
   "metadata": {},
   "outputs": [],
   "source": []
  },
  {
   "cell_type": "code",
   "execution_count": null,
   "metadata": {},
   "outputs": [],
   "source": []
  },
  {
   "cell_type": "code",
   "execution_count": null,
   "metadata": {},
   "outputs": [],
   "source": []
  },
  {
   "cell_type": "code",
   "execution_count": null,
   "metadata": {},
   "outputs": [],
   "source": []
  },
  {
   "cell_type": "code",
   "execution_count": null,
   "metadata": {},
   "outputs": [],
   "source": []
  },
  {
   "cell_type": "markdown",
   "metadata": {},
   "source": [
    "# day3 실습"
   ]
  },
  {
   "cell_type": "markdown",
   "metadata": {},
   "source": [
    "교재 135의 문제4번, \"물의 섭씨, 화씨 온도를 입력받아 섭씨 온도와 물의 상태를 파악하는 프로그램을 작성한다. 입력이 3이면 종료가 되도록 한다.\n",
    "\n",
    "```\n",
    "단위를 입력하세요(1:섭씨, 2:화씨, 3: 종료): 1\n",
    "온도를 입력하세요: 40\n",
    "물의 섭씨 온도 : 40.00, 상태 : 액체\n",
    "...\n",
    "단위를 입력하세요(1:섭씨, 2:화씨, 3: 종료): 3\n",
    "... Quit...\n",
    "```"
   ]
  },
  {
   "cell_type": "code",
   "execution_count": null,
   "metadata": {},
   "outputs": [],
   "source": []
  },
  {
   "cell_type": "code",
   "execution_count": null,
   "metadata": {},
   "outputs": [],
   "source": []
  },
  {
   "cell_type": "code",
   "execution_count": null,
   "metadata": {},
   "outputs": [],
   "source": []
  },
  {
   "cell_type": "code",
   "execution_count": null,
   "metadata": {},
   "outputs": [],
   "source": []
  },
  {
   "cell_type": "code",
   "execution_count": null,
   "metadata": {},
   "outputs": [],
   "source": [
    "unit = int(input('단위를 입력하세요(1:섭씨, 2:화씨): '))\n",
    "temp = int(input('온도를 입력하세요: '))\n",
    "\n",
    "if unit == 2 :\n",
    "   temp = (temp - 32) * 5 / 9\n",
    "\n",
    "if temp < 0 :\n",
    "    state = '고체'\n",
    "elif temp < 100 :\n",
    "    state = '액체'\n",
    "else :\n",
    "    state = '기체'\n",
    "\n",
    "print('물의 섭씨 온도 : %.2f, 상태 : %s' % (temp, state))"
   ]
  }
 ],
 "metadata": {
  "kernelspec": {
   "display_name": "Python 3",
   "language": "python",
   "name": "python3"
  },
  "language_info": {
   "codemirror_mode": {
    "name": "ipython",
    "version": 3
   },
   "file_extension": ".py",
   "mimetype": "text/x-python",
   "name": "python",
   "nbconvert_exporter": "python",
   "pygments_lexer": "ipython3",
   "version": "3.6.12"
  }
 },
 "nbformat": 4,
 "nbformat_minor": 4
}
