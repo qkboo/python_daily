{
 "cells": [
  {
   "cell_type": "markdown",
   "metadata": {},
   "source": [
    "조건:\n",
    "\n",
    " - True, False 판단!\n",
    " - ~크냐, 작냐, 같으냐, ....\n",
    "    - 조건/비교/관계 연산자: \n",
    "         - `<, >, =>, <=,==, `"
   ]
  },
  {
   "cell_type": "code",
   "execution_count": 5,
   "metadata": {},
   "outputs": [
    {
     "name": "stdout",
     "output_type": "stream",
     "text": [
      "A가 크네\n",
      "정말... 클까?\n"
     ]
    }
   ],
   "source": [
    "a = 100\n",
    "b = 10\n",
    "\n",
    "if a > b :\n",
    "    print(\"A가 크네\")  \n",
    "    \n",
    "    print(\"정말... 클까?\")\n",
    "    \n",
    "else  :\n",
    "    # 주석\n",
    "    print(\"A가 작네\")"
   ]
  },
  {
   "cell_type": "code",
   "execution_count": 5,
   "metadata": {},
   "outputs": [
    {
     "name": "stdout",
     "output_type": "stream",
     "text": [
      "A가 크네\n",
      "정말... 클까?\n"
     ]
    }
   ],
   "source": [
    "a = 100\n",
    "b = 10\n",
    "\n",
    "if (a > b) and (b < 5) :\n",
    "    print(\"A가 크네\")  \n",
    "    \n",
    "    print(\"정말... 클까?\")\n",
    "    \n",
    "else  :\n",
    "    # 주석\n",
    "    print(\"A가 작네\")"
   ]
  },
  {
   "cell_type": "code",
   "execution_count": 7,
   "metadata": {},
   "outputs": [
    {
     "data": {
      "text/plain": [
       "True"
      ]
     },
     "execution_count": 7,
     "metadata": {},
     "output_type": "execute_result"
    }
   ],
   "source": [
    "not False"
   ]
  },
  {
   "cell_type": "markdown",
   "metadata": {},
   "source": [
    "#### 문)\n",
    "\n",
    "입력된 숫자가 양수이고 100 보다 작으면 \"작다!\"\n",
    " - 100보다 크면 \"크다\" 를 출력"
   ]
  },
  {
   "cell_type": "code",
   "execution_count": null,
   "metadata": {},
   "outputs": [],
   "source": [
    "x = int(input('숫자를입력하세요: '))\n",
    "if x > 0  and x > 100:\n",
    "    print('양수이고 크다')\n",
    "else :\n",
    "    print('0 또는음수!')"
   ]
  },
  {
   "cell_type": "code",
   "execution_count": null,
   "metadata": {},
   "outputs": [],
   "source": [
    "x = int(input('숫자를입력하세요: '))\n",
    "if x >= 65 or x < 7:\n",
    "    print('무료')\n",
    "else :\n",
    "    print('유료')"
   ]
  },
  {
   "cell_type": "code",
   "execution_count": 8,
   "metadata": {},
   "outputs": [
    {
     "name": "stdout",
     "output_type": "stream",
     "text": [
      "name:\n"
     ]
    },
    {
     "data": {
      "text/plain": [
       "''"
      ]
     },
     "execution_count": 8,
     "metadata": {},
     "output_type": "execute_result"
    }
   ],
   "source": [
    "name = input('name:')\n",
    "name"
   ]
  },
  {
   "cell_type": "code",
   "execution_count": 9,
   "metadata": {
    "scrolled": true
   },
   "outputs": [
    {
     "name": "stdout",
     "output_type": "stream",
     "text": [
      "name:\n",
      "이름을 다시 입력하요!!\n"
     ]
    }
   ],
   "source": [
    "name = input('name:')\n",
    "\n",
    "if not name:\n",
    "    print(\"이름을 다시 입력하요!!\")"
   ]
  },
  {
   "cell_type": "code",
   "execution_count": 11,
   "metadata": {},
   "outputs": [
    {
     "name": "stdout",
     "output_type": "stream",
     "text": [
      "True\n"
     ]
    }
   ],
   "source": [
    "a = 10\n",
    "print(\"True\") if a == 10 else print(\"False\")"
   ]
  },
  {
   "cell_type": "code",
   "execution_count": null,
   "metadata": {},
   "outputs": [],
   "source": [
    "if a == 10:\n",
    "    print(\"True\")\n",
    "else:\n",
    "    print(\"False\")"
   ]
  }
 ],
 "metadata": {
  "kernelspec": {
   "display_name": "Python 3",
   "language": "python",
   "name": "python3"
  },
  "language_info": {
   "codemirror_mode": {
    "name": "ipython",
    "version": 3
   },
   "file_extension": ".py",
   "mimetype": "text/x-python",
   "name": "python",
   "nbconvert_exporter": "python",
   "pygments_lexer": "ipython3",
   "version": "3.6.12"
  }
 },
 "nbformat": 4,
 "nbformat_minor": 4
}
