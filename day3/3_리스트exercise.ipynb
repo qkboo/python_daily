{
 "cells": [
  {
   "cell_type": "code",
   "execution_count": 1,
   "metadata": {},
   "outputs": [
    {
     "name": "stdout",
     "output_type": "stream",
     "text": [
      "가장 큰 수 : 10\n"
     ]
    }
   ],
   "source": [
    "# 연습문제 5-1\n",
    "data = [-12, 3, -9, 5, 8, -2, 0, -8, 3, 10]\n",
    "\n",
    "largest = data[0]\n",
    "for i in range(len(data)) :\n",
    "    if data[i] > largest :\n",
    "        largest = data[i]\n",
    "\n",
    "print('가장 큰 수 : %d' % largest)\n"
   ]
  },
  {
   "cell_type": "code",
   "execution_count": 2,
   "metadata": {},
   "outputs": [
    {
     "name": "stdout",
     "output_type": "stream",
     "text": [
      "합계 : 8, 평균 : 1.60\n"
     ]
    }
   ],
   "source": [
    "# 연습문제 5-2\n",
    "data = [-12, 3, -9, 5, 8, -2, 0, -8, 3, 10]\n",
    "\n",
    "i = 0\n",
    "sum = 0\n",
    "while i < len(data) :\n",
    "    if (i+1)%2 == 0 :\n",
    "        sum += data[i]\n",
    "    \n",
    "    i += 1\n",
    "    \n",
    "avg = sum/(len(data)/2)\n",
    "\n",
    "print('합계 : %d, 평균 : %.2f' % (sum, avg))"
   ]
  },
  {
   "cell_type": "code",
   "execution_count": 14,
   "metadata": {},
   "outputs": [
    {
     "name": "stdout",
     "output_type": "stream",
     "text": [
      "10  8  5  3  3  0  -2  -8  -9  -12  "
     ]
    }
   ],
   "source": [
    "# 연습문제 5-3\n",
    "data = [-12, 3, -9, 5, 8, -2, 0, -8, 3, 10]\n",
    "\n",
    "data.sort(reverse=True)\n",
    "for i in range(len(data)) :\n",
    "    print(data[i], end='  ')\n"
   ]
  },
  {
   "cell_type": "code",
   "execution_count": 15,
   "metadata": {},
   "outputs": [
    {
     "name": "stdout",
     "output_type": "stream",
     "text": [
      "-12  3  -9  100  5  8  -2  0  -8  3  10  "
     ]
    }
   ],
   "source": [
    "# 연습문제 5-4\n",
    "data = [-12, 3, -9, 5, 8, -2, 0, -8, 3, 10]\n",
    "\n",
    "data.insert(3, 100)\n",
    "for i in range(len(data)) :\n",
    "    print(data[i], end='  ')\n"
   ]
  },
  {
   "cell_type": "code",
   "execution_count": 18,
   "metadata": {},
   "outputs": [
    {
     "name": "stdout",
     "output_type": "stream",
     "text": [
      "3  -9  5  8  -2  0  -8  3  10  "
     ]
    }
   ],
   "source": [
    "# 연습문제 5-5\n",
    "data = [-12, 3, -9, 5, 8, -2, 0, -8, 3, 10]\n",
    "\n",
    "data.remove(-12)\n",
    "for i in range(len(data)) :\n",
    "    print(data[i], end='  ')"
   ]
  },
  {
   "cell_type": "code",
   "execution_count": 23,
   "metadata": {},
   "outputs": [
    {
     "name": "stdout",
     "output_type": "stream",
     "text": [
      "흑돌의 개수 : 17\n",
      "백돌의 개수 : 16\n"
     ]
    }
   ],
   "source": [
    "# 연습문제 5-6\n",
    "stone = [[0, 0, 0, 0, 0, 0, 0, 0, 0 ],\\\n",
    "         [0, 1, 0, 1, 2, 1, 2, 1, 0 ],\\\n",
    "         [0, 2, 1, 1, 1, 2, 2, 0, 0 ],\\\n",
    "         [0, 0, 2, 2, 2, 1, 0, 2, 0 ],\\\n",
    "         [0, 0, 0, 0, 0, 1, 0, 2, 1 ],\\\n",
    "         [0, 0, 0, 2, 0, 1, 2, 1, 0 ],\\\n",
    "         [0, 0, 0, 2, 1, 0, 1, 1, 0 ],\\\n",
    "         [0, 0, 0, 1, 1, 0, 0, 0, 0 ],\\\n",
    "         [0, 0, 0, 0, 2, 2, 2, 0, 0 ]]\n",
    "\n",
    "num_black = 0\n",
    "num_white = 0\n",
    "for i in range(9) :\n",
    "    for j in range(9) :\n",
    "        if stone[i][j] == 1 : \n",
    "            num_black += 1\n",
    "        \n",
    "        if stone[i][j] == 2 :\n",
    "            num_white += 1\n",
    "\n",
    "print('흑돌의 개수 : %d' % num_black)\n",
    "print('백돌의 개수 : %d' % num_white)\n",
    "        "
   ]
  },
  {
   "cell_type": "code",
   "execution_count": 4,
   "metadata": {},
   "outputs": [
    {
     "name": "stdout",
     "output_type": "stream",
     "text": [
      "  ×  ×  ×  ×  ×  ×  ×  ×  ×\n",
      "  ×  ●  ×  ●  ○  ●  ○  ●  ×\n",
      "  ×  ○  ●  ●  ●  ○  ○  ×  ×\n",
      "  ×  ×  ○  ○  ○  ●  ×  ○  ×\n",
      "  ×  ×  ×  ×  ×  ●  ×  ○  ●\n",
      "  ×  ×  ×  ○  ×  ●  ○  ●  ×\n",
      "  ×  ×  ×  ○  ●  ×  ●  ●  ×\n",
      "  ×  ×  ×  ●  ●  ×  ×  ×  ×\n",
      "  ×  ×  ×  ×  ○  ○  ○  ×  ×\n"
     ]
    }
   ],
   "source": [
    "# 연습문제 5-7\n",
    "stone = [[0, 0, 0, 0, 0, 0, 0, 0, 0 ],\\\n",
    "         [0, 1, 0, 1, 2, 1, 2, 1, 0 ],\\\n",
    "         [0, 2, 1, 1, 1, 2, 2, 0, 0 ],\\\n",
    "         [0, 0, 2, 2, 2, 1, 0, 2, 0 ],\\\n",
    "         [0, 0, 0, 0, 0, 1, 0, 2, 1 ],\\\n",
    "         [0, 0, 0, 2, 0, 1, 2, 1, 0 ],\\\n",
    "         [0, 0, 0, 2, 1, 0, 1, 1, 0 ],\\\n",
    "         [0, 0, 0, 1, 1, 0, 0, 0, 0 ],\\\n",
    "         [0, 0, 0, 0, 2, 2, 2, 0, 0 ]]\n",
    "\n",
    "num_black = 0\n",
    "num_white = 0\n",
    "for i in range(9) :\n",
    "    for j in range(9) :\n",
    "        if stone[i][j] == 1 : \n",
    "            print('%3s' % '●', end = '')\n",
    "        elif stone[i][j] == 2 : \n",
    "            print('%3s' % '○', end = '')\n",
    "        else :\n",
    "            print('%3s' % '×', end = '')\n",
    "            \n",
    "    print()\n"
   ]
  },
  {
   "cell_type": "code",
   "execution_count": 3,
   "metadata": {},
   "outputs": [
    {
     "name": "stdout",
     "output_type": "stream",
     "text": [
      "    01  02  03  04  05  06  07  08  09  \n",
      "01  ×  ×  ×  ×  ×  ×  ×  ×  ×\n",
      "02  ×  ●  ×  ●  ○  ●  ○  ●  ×\n",
      "03  ×  ○  ●  ●  ●  ○  ○  ×  ×\n",
      "04  ×  ×  ○  ○  ○  ●  ×  ○  ×\n",
      "05  ×  ×  ×  ×  ×  ●  ×  ○  ●\n",
      "06  ×  ×  ×  ○  ×  ●  ○  ●  ×\n",
      "07  ×  ×  ×  ○  ●  ×  ●  ●  ×\n",
      "08  ×  ×  ×  ●  ●  ×  ×  ×  ×\n",
      "09  ×  ×  ×  ×  ○  ○  ○  ×  ×\n"
     ]
    }
   ],
   "source": [
    "# 연습문제 5-8\n",
    "stone = [[0, 0, 0, 0, 0, 0, 0, 0, 0 ],\\\n",
    "         [0, 1, 0, 1, 2, 1, 2, 1, 0 ],\\\n",
    "         [0, 2, 1, 1, 1, 2, 2, 0, 0 ],\\\n",
    "         [0, 0, 2, 2, 2, 1, 0, 2, 0 ],\\\n",
    "         [0, 0, 0, 0, 0, 1, 0, 2, 1 ],\\\n",
    "         [0, 0, 0, 2, 0, 1, 2, 1, 0 ],\\\n",
    "         [0, 0, 0, 2, 1, 0, 1, 1, 0 ],\\\n",
    "         [0, 0, 0, 1, 1, 0, 0, 0, 0 ],\\\n",
    "         [0, 0, 0, 0, 2, 2, 2, 0, 0 ]]\n",
    "\n",
    "num_black = 0\n",
    "num_white = 0\n",
    "\n",
    "print(' ' * 4, end='')\n",
    "for i in range(9) :\n",
    "    print('%02d' % (i+1), end = '  ')\n",
    "print()\n",
    "\n",
    "for i in range(9) :\n",
    "    print('%02d' % (i+1), end = '')\n",
    "    for j in range(9) :\n",
    "        if stone[i][j] == 1 : \n",
    "            print('%3s' % '●', end = '')\n",
    "        elif stone[i][j] == 2 : \n",
    "            print('%3s' % '○', end = '')\n",
    "        else :\n",
    "            print('%3s' % '×', end = '')\n",
    "            \n",
    "    print()\n",
    "    "
   ]
  },
  {
   "cell_type": "code",
   "execution_count": 3,
   "metadata": {},
   "outputs": [
    {
     "name": "stdout",
     "output_type": "stream",
     "text": [
      "X축 좌표값을 입력하세요(1~9, 종료 시 -1 입력) : 7\n",
      "Y축 좌표값을 입력하세요(1~9, 종료 시 -1 입력) : 2\n",
      "백돌\n",
      "X축 좌표값을 입력하세요(1~9, 종료 시 -1 입력) : -1\n",
      "종료되었습니다!\n"
     ]
    }
   ],
   "source": [
    "# 연습문제 5-9\n",
    "stone = [[0, 0, 0, 0, 0, 0, 0, 0, 0 ],\\\n",
    "         [0, 1, 0, 1, 2, 1, 2, 1, 0 ],\\\n",
    "         [0, 2, 1, 1, 1, 2, 2, 0, 0 ],\\\n",
    "         [0, 0, 2, 2, 2, 1, 0, 2, 0 ],\\\n",
    "         [0, 0, 0, 0, 0, 1, 0, 2, 1 ],\\\n",
    "         [0, 0, 0, 2, 0, 1, 2, 1, 0 ],\\\n",
    "         [0, 0, 0, 2, 1, 0, 1, 1, 0 ],\\\n",
    "         [0, 0, 0, 1, 1, 0, 0, 0, 0 ],\\\n",
    "         [0, 0, 0, 0, 2, 2, 2, 0, 0 ]]\n",
    "\n",
    "while True :\n",
    "    X = int(input('X축 좌표값을 입력하세요(1~9, 종료 시 -1 입력) : '))\n",
    "    if X == -1 :\n",
    "        break\n",
    "    Y = int(input('Y축 좌표값을 입력하세요(1~9, 종료 시 -1 입력) : '))\n",
    "    if Y == -1 :\n",
    "        break\n",
    "\n",
    "        \n",
    "    if stone[Y-1][X-1] == 1 :\n",
    "        print('흑돌')\n",
    "    elif stone[Y-1][X-1] == 2 :\n",
    "        print('백돌')\n",
    "    else :\n",
    "        print('돌없음')\n",
    "\n",
    "print('종료되었습니다!')\n",
    "    "
   ]
  },
  {
   "cell_type": "code",
   "execution_count": null,
   "metadata": {},
   "outputs": [],
   "source": []
  }
 ],
 "metadata": {
  "kernelspec": {
   "display_name": "Python 3",
   "language": "python",
   "name": "python3"
  },
  "language_info": {
   "codemirror_mode": {
    "name": "ipython",
    "version": 3
   },
   "file_extension": ".py",
   "mimetype": "text/x-python",
   "name": "python",
   "nbconvert_exporter": "python",
   "pygments_lexer": "ipython3",
   "version": "3.7.4"
  }
 },
 "nbformat": 4,
 "nbformat_minor": 2
}
