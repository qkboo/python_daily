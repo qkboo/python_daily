{
 "cells": [
  {
   "cell_type": "markdown",
   "metadata": {},
   "source": []
  },
  {
   "cell_type": "code",
   "execution_count": null,
   "metadata": {},
   "outputs": [],
   "source": [
    "# ex4-1.py\n",
    "for x in range(5) :\n",
    "    print('안녕하세요.')"
   ]
  },
  {
   "cell_type": "code",
   "execution_count": null,
   "metadata": {},
   "outputs": [],
   "source": [
    "# ex4-2.py\n",
    "x = 0\n",
    "while x < 5 :\n",
    "    print('안녕하세요.')\n",
    "    x += 1"
   ]
  },
  {
   "cell_type": "code",
   "execution_count": null,
   "metadata": {},
   "outputs": [],
   "source": [
    "# ex4-3.py\n",
    "sum = 0\n",
    "\n",
    "for i in range(1, 11) :\n",
    "    sum += i\n",
    "    print('i의 값 : %d, 합계 : %d' % (i, sum))"
   ]
  },
  {
   "cell_type": "code",
   "execution_count": null,
   "metadata": {},
   "outputs": [],
   "source": [
    "# ex4-4.py\n",
    "for i in range(10) :\n",
    "    print(i, end =' ')\n",
    "print()\n",
    "\n",
    "for i in range(1, 11) :\n",
    "    print(i, end =' ')\n",
    "print()\n",
    "\n",
    "for i in range(1, 10, 2) :\n",
    "    print(i, end =' ')\n",
    "print()\n",
    "\n",
    "for i in range(20, 0, -2) :\n",
    "    print(i, end =' ')\n"
   ]
  },
  {
   "cell_type": "code",
   "execution_count": null,
   "metadata": {},
   "outputs": [],
   "source": [
    "# ex4-5.py\n",
    "sum = 0\n",
    "for i in range(1, 101) :\n",
    "    if i%3 == 0 :\n",
    "        print('%d' % i, end = ' ')\n",
    "        sum += i\n",
    "\n",
    "print('\\n','-' * 50)\n",
    "print('1~100에서 3의 배수의 합계 : %d' % sum)"
   ]
  },
  {
   "cell_type": "markdown",
   "metadata": {},
   "source": [
    "문자열"
   ]
  },
  {
   "cell_type": "code",
   "execution_count": 1,
   "metadata": {},
   "outputs": [
    {
     "data": {
      "text/plain": [
       "4"
      ]
     },
     "execution_count": 1,
     "metadata": {},
     "output_type": "execute_result"
    }
   ],
   "source": [
    "len(\"안녕세요\")"
   ]
  },
  {
   "cell_type": "code",
   "execution_count": 2,
   "metadata": {},
   "outputs": [
    {
     "data": {
      "text/plain": [
       "'안녕'"
      ]
     },
     "execution_count": 2,
     "metadata": {},
     "output_type": "execute_result"
    }
   ],
   "source": [
    "msg = \"안녕세요\"\n",
    "msg[:2]"
   ]
  },
  {
   "cell_type": "markdown",
   "metadata": {},
   "source": [
    "```\n",
    "for s in range(), '문자열'.....   # Iterable object\n",
    "```"
   ]
  },
  {
   "cell_type": "code",
   "execution_count": 3,
   "metadata": {},
   "outputs": [
    {
     "name": "stdout",
     "output_type": "stream",
     "text": [
      "안\n",
      "녕\n",
      "세\n",
      "요\n"
     ]
    }
   ],
   "source": [
    "for s in msg:\n",
    "    print(s)"
   ]
  },
  {
   "cell_type": "code",
   "execution_count": null,
   "metadata": {},
   "outputs": [],
   "source": []
  },
  {
   "cell_type": "code",
   "execution_count": null,
   "metadata": {},
   "outputs": [],
   "source": [
    "# ex4-6.py\n",
    "word = input('영어 문장을 입력하세요 : ') \n",
    "\n",
    "for x in word : \n",
    "    print(x)\n"
   ]
  },
  {
   "cell_type": "markdown",
   "metadata": {},
   "source": [
    "for 반복문으로 단위환산표!"
   ]
  },
  {
   "cell_type": "code",
   "execution_count": 4,
   "metadata": {},
   "outputs": [
    {
     "name": "stdout",
     "output_type": "stream",
     "text": [
      "------------------------------\n",
      "    섭씨     화씨\n",
      "------------------------------\n",
      "     -20    -4.0\n",
      "     -15     5.0\n",
      "     -10    14.0\n",
      "      -5    23.0\n",
      "       0    32.0\n",
      "       5    41.0\n",
      "      10    50.0\n",
      "      15    59.0\n",
      "      20    68.0\n",
      "      25    77.0\n",
      "      30    86.0\n",
      "------------------------------\n"
     ]
    }
   ],
   "source": [
    "# ex4-7.py\n",
    "print('-' * 30) \n",
    "print('    섭씨     화씨')\n",
    "print('-' * 30) \n",
    "\n",
    "for c in range(-20, 31, 5) : \n",
    "    f = c * 9.0/ 5.0 + 32.0 \n",
    "    print('%8d  %6.1f' % (c, f))   \n",
    "     \n",
    "print('-' * 30)"
   ]
  },
  {
   "cell_type": "markdown",
   "metadata": {},
   "source": [
    "#### 5의 배수가 아닌수와 합계를 출력!"
   ]
  },
  {
   "cell_type": "code",
   "execution_count": 3,
   "metadata": {},
   "outputs": [
    {
     "name": "stdout",
     "output_type": "stream",
     "text": [
      "시작 수를 입력하세요 : 100\n",
      "끝 수를 입력하세요 : 200\n",
      "--------------------------------------------------\n",
      "100에서 200까지 5의 배수가 아닌 수의 합계 : 12000\n"
     ]
    }
   ],
   "source": [
    "# Q4-1.py\n",
    "n1 = int(input('시작 수를 입력하세요 : '))\n",
    "n2 = int(input('끝 수를 입력하세요 : '))\n",
    "\n",
    "sum = 0\n",
    "for i in range(n1, n2+1) :\n",
    "    if i%5 != 0 :\n",
    "        sum += i\n",
    "\n",
    "print('-' * 50)\n",
    "print('%d에서 %d까지 5의 배수가 아닌 수의 합계 : %d' % (n1, n2, sum))"
   ]
  },
  {
   "cell_type": "markdown",
   "metadata": {},
   "source": [
    "예외)\n",
    " - 5의 배수 출력중 합이 210을 넘으면 종료\n",
    " "
   ]
  },
  {
   "cell_type": "code",
   "execution_count": null,
   "metadata": {},
   "outputs": [],
   "source": []
  },
  {
   "cell_type": "markdown",
   "metadata": {},
   "source": [
    "#### 전화번호에서 '-' 제거"
   ]
  },
  {
   "cell_type": "code",
   "execution_count": 9,
   "metadata": {},
   "outputs": [
    {
     "name": "stdin",
     "output_type": "stream",
     "text": [
      "하이픈(-)을 포함한 휴대폰 번호를 입력하세요:  234-1234--4444\n"
     ]
    },
    {
     "name": "stdout",
     "output_type": "stream",
     "text": [
      "23412344444"
     ]
    }
   ],
   "source": [
    "# Q4-2.py\n",
    "number = input('하이픈(-)을 포함한 휴대폰 번호를 입력하세요: ') \n",
    "\n",
    "for x in number :\n",
    "    if x != '-' :\n",
    "        print(f'{x}', end='')"
   ]
  },
  {
   "cell_type": "markdown",
   "metadata": {},
   "source": [
    "문자열 메서드:\n",
    "https://seongjaemoon.github.io/python/2017/12/05/pythonStringFormat.html"
   ]
  },
  {
   "cell_type": "code",
   "execution_count": 10,
   "metadata": {},
   "outputs": [
    {
     "name": "stdin",
     "output_type": "stream",
     "text": [
      "하이픈(-)을 포함한 휴대폰 번호를 입력하세요:  1234-09988-4444=234234==23423442\n"
     ]
    },
    {
     "name": "stdout",
     "output_type": "stream",
     "text": [
      "['1234', '09988', '4444=234234==23423442']\n",
      "1234099884444=234234==23423442\n"
     ]
    }
   ],
   "source": [
    "number = input('하이픈(-)을 포함한 휴대폰 번호를 입력하세요: ') \n",
    "if not number:\n",
    "    print(\"전화번호를 입력해야 합니다.\")\n",
    "else:\n",
    "    print(number.split('-'))\n",
    "    print(\"\".join(number.split('-')))"
   ]
  },
  {
   "cell_type": "code",
   "execution_count": null,
   "metadata": {},
   "outputs": [],
   "source": []
  },
  {
   "cell_type": "code",
   "execution_count": null,
   "metadata": {},
   "outputs": [],
   "source": []
  },
  {
   "cell_type": "markdown",
   "metadata": {},
   "source": [
    "#### 전화번호에 '-' 추가"
   ]
  },
  {
   "cell_type": "code",
   "execution_count": 1,
   "metadata": {},
   "outputs": [
    {
     "name": "stdout",
     "output_type": "stream",
     "text": [
      "하이픈(-)을 뺀 11자리의 휴대폰 번호를 입력하세요: 01033334444\n",
      "010-3333-4444\n"
     ]
    }
   ],
   "source": [
    "# Q4-3.py\n",
    "phone = input('하이픈(-)을 뺀 11자리의 휴대폰 번호를 입력하세요: ') \n",
    "\n",
    "number = '';\n",
    "for i in range(0, len(phone)) :\n",
    "    if i == 2 :\n",
    "        number = number + (phone[2]+'-')\n",
    "    elif i == 6 :\n",
    "        number = number + (phone[6]+'-')\n",
    "    else :\n",
    "        number = number + phone[i]\n",
    "\n",
    "print(number)"
   ]
  },
  {
   "cell_type": "code",
   "execution_count": 15,
   "metadata": {},
   "outputs": [
    {
     "data": {
      "text/plain": [
       "'010-222-3333'"
      ]
     },
     "execution_count": 15,
     "metadata": {},
     "output_type": "execute_result"
    }
   ],
   "source": [
    "phone = \"010-222-3333\"\n",
    "phone[:3]+'-'+phone[4:7]+'-'+phone[8:len(phone)]"
   ]
  },
  {
   "cell_type": "markdown",
   "metadata": {},
   "source": [
    "#### 인덱스를 사용해 위 전화번호를 역으로 출력해 보시오!"
   ]
  },
  {
   "cell_type": "code",
   "execution_count": null,
   "metadata": {},
   "outputs": [],
   "source": [
    "phone = \"010-222-3333\"\n"
   ]
  },
  {
   "cell_type": "code",
   "execution_count": null,
   "metadata": {},
   "outputs": [],
   "source": []
  },
  {
   "cell_type": "code",
   "execution_count": null,
   "metadata": {},
   "outputs": [],
   "source": []
  },
  {
   "cell_type": "code",
   "execution_count": null,
   "metadata": {},
   "outputs": [],
   "source": []
  },
  {
   "cell_type": "markdown",
   "metadata": {},
   "source": [
    "길이단위 변환"
   ]
  },
  {
   "cell_type": "code",
   "execution_count": 13,
   "metadata": {},
   "outputs": [
    {
     "name": "stdout",
     "output_type": "stream",
     "text": [
      "------------------------------------------------------------\n",
      "센티미터(cm) 인치(inch)   피트(ft)    야드(yd)\n",
      "------------------------------------------------------------\n",
      "      10         3.9        0.3         0.1\n",
      "      20         7.9        0.7         0.2\n",
      "      30        11.8        1.0         0.3\n",
      "      40        15.7        1.3         0.4\n",
      "      50        19.7        1.6         0.5\n",
      "      60        23.6        2.0         0.7\n",
      "      70        27.6        2.3         0.8\n",
      "      80        31.5        2.6         0.9\n",
      "      90        35.4        3.0         1.0\n",
      "     100        39.4        3.3         1.1\n",
      "     110        43.3        3.6         1.2\n",
      "     120        47.2        3.9         1.3\n",
      "     130        51.2        4.3         1.4\n",
      "     140        55.1        4.6         1.5\n",
      "     150        59.1        4.9         1.6\n",
      "     160        63.0        5.2         1.7\n",
      "     170        66.9        5.6         1.9\n",
      "     180        70.9        5.9         2.0\n",
      "     190        74.8        6.2         2.1\n",
      "     200        78.7        6.6         2.2\n",
      "------------------------------------------------------------\n"
     ]
    }
   ],
   "source": [
    "# Q4-4.py\n",
    "print('-' * 60) \n",
    "print('센티미터(cm) 인치(inch)   피트(ft)    야드(yd)')\n",
    "print('-' * 60) \n",
    "\n",
    "for cm in range(10, 201, 10) : \n",
    "    inch = cm * 0.393701 \n",
    "    ft = cm * 0.032808\n",
    "    yd = cm * 0.010936\n",
    "    print('%8d  %10.1f %10.1f  %10.1f' % (cm, inch, ft, yd))   \n",
    "     \n",
    "print('-' * 60)\n"
   ]
  },
  {
   "cell_type": "code",
   "execution_count": 20,
   "metadata": {
    "scrolled": true
   },
   "outputs": [
    {
     "name": "stdout",
     "output_type": "stream",
     "text": [
      "----------------------------------------\n",
      "킬로그램(kg) 파운드(lb)   온스(oz)\n",
      "----------------------------------------\n",
      "      10        22.0      352.7\n",
      "      15        33.1      529.1\n",
      "      20        44.1      705.5\n",
      "      25        55.1      881.8\n",
      "      30        66.1     1058.2\n",
      "      35        77.2     1234.6\n",
      "      40        88.2     1411.0\n",
      "      45        99.2     1587.3\n",
      "      50       110.2     1763.7\n",
      "      55       121.3     1940.1\n",
      "      60       132.3     2116.4\n",
      "      65       143.3     2292.8\n",
      "      70       154.3     2469.2\n",
      "      75       165.3     2645.5\n",
      "      80       176.4     2821.9\n",
      "      85       187.4     2998.3\n",
      "      90       198.4     3174.7\n",
      "      95       209.4     3351.0\n",
      "     100       220.5     3527.4\n",
      "----------------------------------------\n"
     ]
    }
   ],
   "source": [
    "# Q4-5.py\n",
    "print('-' * 40) \n",
    "print('킬로그램(kg) 파운드(lb)   온스(oz)')\n",
    "print('-' * 40) \n",
    "\n",
    "for kg in range(10, 101, 5) : \n",
    "    lb = kg * 2.204623\n",
    "    oz = kg * 35.273962\n",
    "    print('%8d  %10.1f %10.1f' % (kg, lb, oz))   \n",
    "     \n",
    "print('-' * 40)"
   ]
  },
  {
   "cell_type": "markdown",
   "metadata": {},
   "source": [
    "#### 홀수 숫자 세기"
   ]
  },
  {
   "cell_type": "code",
   "execution_count": 23,
   "metadata": {},
   "outputs": [
    {
     "name": "stdout",
     "output_type": "stream",
     "text": [
      "숫자를 입력하세요 : 3049894\n",
      "입력된 숫자 중 홀수의 개수 : 3개\n"
     ]
    }
   ],
   "source": [
    "# Q4-6.py\n",
    "number = input('숫자를 입력하세요 : ') \n",
    "\n",
    "total = 0 \n",
    "\n",
    "for a in number : \n",
    "   a = int(a) \n",
    "   if a % 2 == 1 : \n",
    "      total += 1 \n",
    "\n",
    "print('입력된 숫자 중 홀수의 개수 : %d개' % total)"
   ]
  },
  {
   "cell_type": "code",
   "execution_count": null,
   "metadata": {},
   "outputs": [],
   "source": []
  },
  {
   "cell_type": "code",
   "execution_count": null,
   "metadata": {},
   "outputs": [],
   "source": []
  },
  {
   "cell_type": "code",
   "execution_count": null,
   "metadata": {},
   "outputs": [],
   "source": []
  },
  {
   "cell_type": "code",
   "execution_count": null,
   "metadata": {},
   "outputs": [],
   "source": []
  },
  {
   "cell_type": "code",
   "execution_count": null,
   "metadata": {},
   "outputs": [],
   "source": [
    "# ex4-8.py\n",
    "a = 2 \n",
    "\n",
    "for b in range(1, 10) :\n",
    "    c = a * b\n",
    "    print('%d x %d = %d' % (a, b, c))\n"
   ]
  },
  {
   "cell_type": "code",
   "execution_count": 16,
   "metadata": {
    "collapsed": true,
    "jupyter": {
     "outputs_hidden": true
    }
   },
   "outputs": [
    {
     "name": "stdout",
     "output_type": "stream",
     "text": [
      "--------------------------------------------------\n",
      "2 x 1 = 2\n",
      "2 x 2 = 4\n",
      "2 x 3 = 6\n",
      "2 x 4 = 8\n",
      "2 x 5 = 10\n",
      "2 x 6 = 12\n",
      "2 x 7 = 14\n",
      "2 x 8 = 16\n",
      "2 x 9 = 18\n",
      "--------------------------------------------------\n",
      "3 x 1 = 3\n",
      "3 x 2 = 6\n",
      "3 x 3 = 9\n",
      "3 x 4 = 12\n",
      "3 x 5 = 15\n",
      "3 x 6 = 18\n",
      "3 x 7 = 21\n",
      "3 x 8 = 24\n",
      "3 x 9 = 27\n",
      "--------------------------------------------------\n",
      "4 x 1 = 4\n",
      "4 x 2 = 8\n",
      "4 x 3 = 12\n",
      "4 x 4 = 16\n",
      "4 x 5 = 20\n",
      "4 x 6 = 24\n",
      "4 x 7 = 28\n",
      "4 x 8 = 32\n",
      "4 x 9 = 36\n",
      "--------------------------------------------------\n",
      "5 x 1 = 5\n",
      "5 x 2 = 10\n",
      "5 x 3 = 15\n",
      "5 x 4 = 20\n",
      "5 x 5 = 25\n",
      "5 x 6 = 30\n",
      "5 x 7 = 35\n",
      "5 x 8 = 40\n",
      "5 x 9 = 45\n",
      "--------------------------------------------------\n",
      "6 x 1 = 6\n",
      "6 x 2 = 12\n",
      "6 x 3 = 18\n",
      "6 x 4 = 24\n",
      "6 x 5 = 30\n",
      "6 x 6 = 36\n",
      "6 x 7 = 42\n",
      "6 x 8 = 48\n",
      "6 x 9 = 54\n",
      "--------------------------------------------------\n",
      "7 x 1 = 7\n",
      "7 x 2 = 14\n",
      "7 x 3 = 21\n",
      "7 x 4 = 28\n",
      "7 x 5 = 35\n",
      "7 x 6 = 42\n",
      "7 x 7 = 49\n",
      "7 x 8 = 56\n",
      "7 x 9 = 63\n",
      "--------------------------------------------------\n",
      "8 x 1 = 8\n",
      "8 x 2 = 16\n",
      "8 x 3 = 24\n",
      "8 x 4 = 32\n",
      "8 x 5 = 40\n",
      "8 x 6 = 48\n",
      "8 x 7 = 56\n",
      "8 x 8 = 64\n",
      "8 x 9 = 72\n",
      "--------------------------------------------------\n",
      "9 x 1 = 9\n",
      "9 x 2 = 18\n",
      "9 x 3 = 27\n",
      "9 x 4 = 36\n",
      "9 x 5 = 45\n",
      "9 x 6 = 54\n",
      "9 x 7 = 63\n",
      "9 x 8 = 72\n",
      "9 x 9 = 81\n",
      "--------------------------------------------------\n"
     ]
    }
   ],
   "source": [
    "# ex4-9.py\n",
    "print('-' * 50)\n",
    "\n",
    "for a in range(2, 10) :         \n",
    "    for b in range(1, 10) :\n",
    "        c = a * b\n",
    "        print('%d x %d = %d' % (a, b, c))\n",
    "           \n",
    "    print('-' * 50)\n"
   ]
  },
  {
   "cell_type": "markdown",
   "metadata": {},
   "source": [
    "#### 앞의 구구단 코드를 *입력된 숫자* 맞는 구구단을 출력하도록 수정해 보자."
   ]
  },
  {
   "cell_type": "code",
   "execution_count": null,
   "metadata": {},
   "outputs": [],
   "source": []
  },
  {
   "cell_type": "code",
   "execution_count": null,
   "metadata": {},
   "outputs": [],
   "source": []
  },
  {
   "cell_type": "code",
   "execution_count": 26,
   "metadata": {},
   "outputs": [
    {
     "name": "stdout",
     "output_type": "stream",
     "text": [
      "*\n",
      "**\n",
      "***\n",
      "****\n",
      "*****\n",
      "******\n",
      "*******\n",
      "********\n",
      "*********\n",
      "**********\n"
     ]
    }
   ],
   "source": [
    "# Q4-7.py\n",
    "for i in range(1,11) :\n",
    "    for j in range(1, i+1) :\n",
    "        print('*', end='')\n",
    "    print()"
   ]
  },
  {
   "cell_type": "code",
   "execution_count": null,
   "metadata": {},
   "outputs": [],
   "source": []
  },
  {
   "cell_type": "code",
   "execution_count": 27,
   "metadata": {
    "scrolled": true
   },
   "outputs": [
    {
     "name": "stdout",
     "output_type": "stream",
     "text": [
      "         *\n",
      "        **\n",
      "       ***\n",
      "      ****\n",
      "     *****\n",
      "    ******\n",
      "   *******\n",
      "  ********\n",
      " *********\n",
      "**********\n"
     ]
    }
   ],
   "source": [
    "# Q4-8.py\n",
    "for i in range(1,11) :\n",
    "    for j in range(1, 10-i+1) :\n",
    "        print(' ', end='')\n",
    "    for k in range(1, i+1) :\n",
    "        print('*', end='')\n",
    "    print()"
   ]
  },
  {
   "cell_type": "code",
   "execution_count": null,
   "metadata": {},
   "outputs": [],
   "source": []
  },
  {
   "cell_type": "code",
   "execution_count": null,
   "metadata": {},
   "outputs": [],
   "source": []
  },
  {
   "cell_type": "code",
   "execution_count": null,
   "metadata": {},
   "outputs": [],
   "source": []
  },
  {
   "cell_type": "code",
   "execution_count": null,
   "metadata": {},
   "outputs": [],
   "source": []
  },
  {
   "cell_type": "code",
   "execution_count": 20,
   "metadata": {},
   "outputs": [
    {
     "name": "stdin",
     "output_type": "stream",
     "text": [
      "숫자를 입력: 10\n"
     ]
    },
    {
     "name": "stdout",
     "output_type": "stream",
     "text": [
      "          *\n",
      "         ***\n",
      "        *****\n",
      "       *******\n",
      "      *********\n",
      "     ***********\n",
      "    *************\n",
      "   ***************\n",
      "  *****************\n"
     ]
    }
   ],
   "source": [
    "num = int(input(\"숫자를 입력:\"))\n",
    "for i in range(1, num):\n",
    "    print(\" \" * (num-i), \"*\"*(2*i-1))"
   ]
  },
  {
   "cell_type": "markdown",
   "metadata": {},
   "source": [
    "#### 문) 입력된 숫자의 2의 배수 피라미드"
   ]
  },
  {
   "cell_type": "code",
   "execution_count": 22,
   "metadata": {
    "collapsed": true,
    "jupyter": {
     "outputs_hidden": true,
     "source_hidden": true
    }
   },
   "outputs": [
    {
     "name": "stdin",
     "output_type": "stream",
     "text": [
      "숫자: 10\n"
     ]
    },
    {
     "name": "stdout",
     "output_type": "stream",
     "text": [
      "\n",
      "1\t\n",
      "1\t2\t1\t\n",
      "1\t2\t4\t2\t1\t\n",
      "1\t2\t4\t8\t4\t2\t1\t\n",
      "1\t2\t4\t8\t16\t8\t4\t2\t1\t\n",
      "1\t2\t4\t8\t16\t32\t16\t8\t4\t2\t1\t\n",
      "1\t2\t4\t8\t16\t32\t64\t32\t16\t8\t4\t2\t1\t\n",
      "1\t2\t4\t8\t16\t32\t64\t128\t64\t32\t16\t8\t4\t2\t1\t\n",
      "1\t2\t4\t8\t16\t32\t64\t128\t256\t128\t64\t32\t16\t8\t4\t2\t1\t\n",
      "1\t2\t4\t8\t16\t32\t64\t128\t256\t512\t256\t128\t64\t32\t16\t8\t4\t2\t1\t\n"
     ]
    }
   ],
   "source": [
    "num = int(input(\"숫자:\"))\n",
    "\n",
    "for i in range(1, num+2):\n",
    "    a = 1\n",
    "    for j in range(1, i):\n",
    "        print(a, end='\\t')\n",
    "        a = int(a*2)\n",
    "    a = int(a/4)\n",
    "    for j in range(1, i-1):\n",
    "        print(a, end='\\t')\n",
    "        a = int(a/2)\n",
    "    print()"
   ]
  },
  {
   "cell_type": "code",
   "execution_count": null,
   "metadata": {},
   "outputs": [],
   "source": []
  },
  {
   "cell_type": "markdown",
   "metadata": {},
   "source": [
    "# While"
   ]
  },
  {
   "cell_type": "code",
   "execution_count": null,
   "metadata": {},
   "outputs": [],
   "source": [
    "# ex4-10.py\n",
    "sum = 0\n",
    "i = 1\n",
    "\n",
    "while i <= 10 :\n",
    "    sum += i\n",
    "    print('i의 값 : %d => 합계 : %d' % (i, sum))\n",
    "    i += 1\n"
   ]
  },
  {
   "cell_type": "code",
   "execution_count": null,
   "metadata": {},
   "outputs": [],
   "source": [
    "# ex4-11.py\n",
    "n1 = int(input('첫 수를 입력하세요 : '))\n",
    "n2 = int(input('끝 수를 입력하세요 : '))\n",
    "n = int(input('합계를 구하고자 하는 배수를 입력하세요 : '))\n",
    "\n",
    "sum = 0\n",
    "i = n1\n",
    "\n",
    "while i < n2+1 :\n",
    "    if i%n == 0 :\n",
    "        sum += i\n",
    "\n",
    "    i += 1\n",
    "    \n",
    "print('%d~%d까지의 정수 중 %d의 배수의 합계 : %d' % (n1, n2, n, sum))\n"
   ]
  },
  {
   "cell_type": "markdown",
   "metadata": {},
   "source": [
    "#### 문) 섭씨 온도 화씨 변환 표 "
   ]
  },
  {
   "cell_type": "code",
   "execution_count": 34,
   "metadata": {
    "collapsed": true,
    "jupyter": {
     "outputs_hidden": true
    }
   },
   "outputs": [
    {
     "name": "stdout",
     "output_type": "stream",
     "text": [
      "------------------------------\n",
      "     섭씨     화씨\n",
      "------------------------------\n",
      "     -20      -4.0\n",
      "     -19      -2.2\n",
      "     -18      -0.4\n",
      "     -17       1.4\n",
      "     -16       3.2\n",
      "     -15       5.0\n",
      "     -14       6.8\n",
      "     -13       8.6\n",
      "     -12      10.4\n",
      "     -11      12.2\n",
      "     -10      14.0\n",
      "      -9      15.8\n",
      "      -8      17.6\n",
      "      -7      19.4\n",
      "      -6      21.2\n",
      "      -5      23.0\n",
      "      -4      24.8\n",
      "      -3      26.6\n",
      "      -2      28.4\n",
      "      -1      30.2\n",
      "       0      32.0\n",
      "       1      33.8\n",
      "       2      35.6\n",
      "       3      37.4\n",
      "       4      39.2\n",
      "       5      41.0\n",
      "       6      42.8\n",
      "       7      44.6\n",
      "       8      46.4\n",
      "       9      48.2\n",
      "      10      50.0\n",
      "      11      51.8\n",
      "      12      53.6\n",
      "      13      55.4\n",
      "      14      57.2\n",
      "      15      59.0\n",
      "      16      60.8\n",
      "      17      62.6\n",
      "      18      64.4\n",
      "      19      66.2\n",
      "      20      68.0\n",
      "      21      69.8\n",
      "      22      71.6\n",
      "      23      73.4\n",
      "      24      75.2\n",
      "      25      77.0\n",
      "      26      78.8\n",
      "      27      80.6\n",
      "      28      82.4\n",
      "      29      84.2\n",
      "      30      86.0\n",
      "      31      87.8\n",
      "      32      89.6\n",
      "      33      91.4\n",
      "      34      93.2\n",
      "      35      95.0\n",
      "      36      96.8\n",
      "      37      98.6\n",
      "      38     100.4\n",
      "      39     102.2\n",
      "      40     104.0\n",
      "------------------------------\n"
     ]
    }
   ],
   "source": [
    "# Q4-9.py\n",
    "print('-' * 30) \n",
    "print('     섭씨     화씨')\n",
    "print('-' * 30) \n",
    "\n",
    "c = -20\n",
    "while c < 41 :\n",
    "    f = c * 9.0/ 5.0 + 32.0 \n",
    "    print('%8d  %8.1f' % (c, f))\n",
    "\n",
    "    c +=1\n",
    "     \n",
    "print('-' * 30)"
   ]
  },
  {
   "cell_type": "markdown",
   "metadata": {},
   "source": [
    "#### 문) 3의 배수가 아닌 수 출력!"
   ]
  },
  {
   "cell_type": "code",
   "execution_count": 38,
   "metadata": {
    "collapsed": true,
    "jupyter": {
     "outputs_hidden": true
    },
    "scrolled": true
   },
   "outputs": [
    {
     "name": "stdout",
     "output_type": "stream",
     "text": [
      "200 202 203 205 206 208 209 211 \n",
      "212 214 215 217 218 220 221 223 \n",
      "224 226 227 229 230 232 233 235 \n",
      "236 238 239 241 242 244 245 247 \n",
      "248 250 251 253 254 256 257 259 \n",
      "260 262 263 265 266 268 269 271 \n",
      "272 274 275 277 278 280 281 283 \n",
      "284 286 287 289 290 292 293 295 \n",
      "296 298 299 301 302 304 305 307 \n",
      "308 310 311 313 314 316 317 319 \n",
      "320 322 323 325 326 328 329 331 \n",
      "332 334 335 337 338 340 341 343 \n",
      "344 346 347 349 350 352 353 355 \n",
      "356 358 359 361 362 364 365 367 \n",
      "368 370 371 373 374 376 377 379 \n",
      "380 382 383 385 386 388 389 391 \n",
      "392 394 395 397 398 400 401 403 \n",
      "404 406 407 409 410 412 413 415 \n",
      "416 418 419 421 422 424 425 427 \n",
      "428 430 431 433 434 436 437 439 \n",
      "440 442 443 445 446 448 449 451 \n",
      "452 454 455 457 458 460 461 463 \n",
      "464 466 467 469 470 472 473 475 \n",
      "476 478 479 481 482 484 485 487 \n",
      "488 490 491 493 494 496 497 499 \n",
      "500 502 503 505 506 508 509 511 \n",
      "512 514 515 517 518 520 521 523 \n",
      "524 526 527 529 530 532 533 535 \n",
      "536 538 539 541 542 544 545 547 \n",
      "548 550 551 553 554 556 557 559 \n",
      "560 562 563 565 566 568 569 571 \n",
      "572 574 575 577 578 580 581 583 \n",
      "584 586 587 589 590 592 593 595 \n",
      "596 598 599 "
     ]
    }
   ],
   "source": [
    "# Q4-10.py\n",
    "i = 200\n",
    "count = 0\n",
    "while i < 601 :\n",
    "    if i % 3 != 0 :\n",
    "        print('%d ' % i, end='')\n",
    "        count += 1\n",
    "        if count % 8 == 0 :\n",
    "            print()\n",
    "    i += 1"
   ]
  },
  {
   "cell_type": "code",
   "execution_count": null,
   "metadata": {},
   "outputs": [],
   "source": []
  },
  {
   "cell_type": "code",
   "execution_count": null,
   "metadata": {},
   "outputs": [],
   "source": []
  },
  {
   "cell_type": "code",
   "execution_count": null,
   "metadata": {},
   "outputs": [],
   "source": []
  },
  {
   "cell_type": "code",
   "execution_count": null,
   "metadata": {},
   "outputs": [],
   "source": []
  },
  {
   "cell_type": "markdown",
   "metadata": {},
   "source": [
    "영어 문장에 포함된 모음의 개수를 세고 출력하시오"
   ]
  },
  {
   "cell_type": "code",
   "execution_count": null,
   "metadata": {},
   "outputs": [],
   "source": [
    "# ex4-12.py\n",
    "s = input('영어 문장을 입력하세요 :')\n",
    "\n",
    "i = 0\n",
    "count = 0\n",
    "\n",
    "print('모음 : ', end = '')\n",
    "\n",
    "while i <= len(s) - 1 :\n",
    "    if (s[i] == 'a' or s[i] == 'A'  or s[i] == 'e' or s[i] == 'E' \\\n",
    "        or  s[i] == 'i' or s[i] == 'I' or s[i] == 'o' or s[i] == 'O' \\\n",
    "        or s[i] == 'u' or s[i] == 'U') :\n",
    "        count += 1\n",
    "        print(s[i], end=' ')\n",
    "        \n",
    "    i += 1\n",
    "    \n",
    "print('\\n모음의 개수 : %d' % count)"
   ]
  },
  {
   "cell_type": "code",
   "execution_count": null,
   "metadata": {},
   "outputs": [],
   "source": [
    "lower = \"aAeEiIoOuU\""
   ]
  },
  {
   "cell_type": "code",
   "execution_count": null,
   "metadata": {},
   "outputs": [],
   "source": []
  },
  {
   "cell_type": "code",
   "execution_count": null,
   "metadata": {},
   "outputs": [],
   "source": []
  },
  {
   "cell_type": "code",
   "execution_count": null,
   "metadata": {},
   "outputs": [],
   "source": []
  },
  {
   "cell_type": "markdown",
   "metadata": {},
   "source": [
    "#### 문) 위 알파벳 소문자 세기 문제를 string 메서드에서 isalpha, islower 를 사용해서 구현해 보시오.\n",
    "\n",
    "https://seongjaemoon.github.io/python/2017/12/05/pythonStringFormat.html"
   ]
  },
  {
   "cell_type": "code",
   "execution_count": null,
   "metadata": {},
   "outputs": [],
   "source": []
  },
  {
   "cell_type": "code",
   "execution_count": null,
   "metadata": {},
   "outputs": [],
   "source": []
  },
  {
   "cell_type": "code",
   "execution_count": null,
   "metadata": {},
   "outputs": [],
   "source": []
  },
  {
   "cell_type": "code",
   "execution_count": null,
   "metadata": {},
   "outputs": [],
   "source": []
  },
  {
   "cell_type": "code",
   "execution_count": null,
   "metadata": {},
   "outputs": [],
   "source": [
    "# ex4-13.py\n",
    "for i in range(1, 1001) :\n",
    "    print(i)\n",
    "\n",
    "    if i == 10 :\n",
    "        break"
   ]
  },
  {
   "cell_type": "code",
   "execution_count": null,
   "metadata": {},
   "outputs": [],
   "source": []
  }
 ],
 "metadata": {
  "kernelspec": {
   "display_name": "Python 3",
   "language": "python",
   "name": "python3"
  },
  "language_info": {
   "codemirror_mode": {
    "name": "ipython",
    "version": 3
   },
   "file_extension": ".py",
   "mimetype": "text/x-python",
   "name": "python",
   "nbconvert_exporter": "python",
   "pygments_lexer": "ipython3",
   "version": "3.6.12"
  }
 },
 "nbformat": 4,
 "nbformat_minor": 4
}
